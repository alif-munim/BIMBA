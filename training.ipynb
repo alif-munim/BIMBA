{
 "cells": [
  {
   "cell_type": "markdown",
   "id": "04a4cda5-3116-4548-80a1-25c454052768",
   "metadata": {},
   "source": [
    "# Load Training Data"
   ]
  },
  {
   "cell_type": "code",
   "execution_count": 1,
   "id": "d7f83c15-377f-4721-bb1e-276883990454",
   "metadata": {},
   "outputs": [],
   "source": [
    "# These libraries are pre-installed on SageMaker notebook instances.\n",
    "import boto3, json, io, pandas as pd"
   ]
  },
  {
   "cell_type": "code",
   "execution_count": 2,
   "id": "03f89641-75db-42ca-8890-058bd9f5bad6",
   "metadata": {},
   "outputs": [],
   "source": [
    "s3_uri = \"s3://echodata25/results/echo-images/nova-pro/gen9-outputs/job_00/te63ogaqhzx0/prompts.jsonl.out\"\n",
    "bucket, key = s3_uri.replace(\"s3://\", \"\", 1).split(\"/\", 1)"
   ]
  },
  {
   "cell_type": "code",
   "execution_count": 3,
   "id": "911cfba5-b90e-4d34-bc7a-9f0cd382ad5b",
   "metadata": {},
   "outputs": [
    {
     "name": "stdout",
     "output_type": "stream",
     "text": [
      "0.66 GiB  (703,444,983 bytes)\n"
     ]
    }
   ],
   "source": [
    "import boto3, math\n",
    "s3 = boto3.client(\"s3\")\n",
    "\n",
    "s3_uri = \"s3://echodata25/results/echo-images/nova-pro/gen9-outputs/job_00/te63ogaqhzx0/prompts.jsonl.out\"\n",
    "bucket, key = s3_uri.replace(\"s3://\", \"\", 1).split(\"/\", 1)\n",
    "\n",
    "size = s3.head_object(Bucket=bucket, Key=key)[\"ContentLength\"]   # bytes\n",
    "print(f\"{size/2**30:,.2f} GiB  ({size:,} bytes)\")\n"
   ]
  },
  {
   "cell_type": "code",
   "execution_count": null,
   "id": "10d6cfa3-702a-4e73-a2b3-5e9647666b2d",
   "metadata": {},
   "outputs": [],
   "source": []
  }
 ],
 "metadata": {
  "kernelspec": {
   "display_name": "Python 3 (ipykernel)",
   "language": "python",
   "name": "python3"
  },
  "language_info": {
   "codemirror_mode": {
    "name": "ipython",
    "version": 3
   },
   "file_extension": ".py",
   "mimetype": "text/x-python",
   "name": "python",
   "nbconvert_exporter": "python",
   "pygments_lexer": "ipython3",
   "version": "3.11.11"
  }
 },
 "nbformat": 4,
 "nbformat_minor": 5
}
